{
 "cells": [
  {
   "cell_type": "code",
   "execution_count": null,
   "id": "534627d0-c923-447f-9482-c989bfde772c",
   "metadata": {},
   "outputs": [],
   "source": [
    "# cnn - use for computer vision problem\n",
    "# nlp - use cases\n",
    "-> Text classification\n",
    "\n",
    "Keywords\n",
    "\n",
    "skill -> Python, pandas, ml, seaborn, matplotlib, cnn\n",
    "academic -> bca, b.tech (cse, it)\n",
    "salary\n",
    "location-> delhi\n"
   ]
  }
 ],
 "metadata": {
  "kernelspec": {
   "display_name": "Python 3 (ipykernel)",
   "language": "python",
   "name": "python3"
  },
  "language_info": {
   "codemirror_mode": {
    "name": "ipython",
    "version": 3
   },
   "file_extension": ".py",
   "mimetype": "text/x-python",
   "name": "python",
   "nbconvert_exporter": "python",
   "pygments_lexer": "ipython3",
   "version": "3.12.4"
  }
 },
 "nbformat": 4,
 "nbformat_minor": 5
}
