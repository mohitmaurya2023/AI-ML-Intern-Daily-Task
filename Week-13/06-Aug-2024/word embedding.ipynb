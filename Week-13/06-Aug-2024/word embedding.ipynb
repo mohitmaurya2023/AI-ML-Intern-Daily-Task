{
 "cells": [
  {
   "cell_type": "markdown",
   "id": "8cfb46ec",
   "metadata": {},
   "source": [
    "![NLP PIPELINE](nlp_pipeline.png)"
   ]
  },
  {
   "cell_type": "code",
   "execution_count": 1,
   "id": "8faf0927-80c5-49d2-ba09-361fe781d60b",
   "metadata": {},
   "outputs": [],
   "source": [
    "from tensorflow import keras\n",
    "import numpy as np\n",
    "from tensorflow.keras.utils import pad_sequences"
   ]
  },
  {
   "cell_type": "code",
   "execution_count": 2,
   "id": "d34a7501-2814-4eda-8fc0-ea09ecc63282",
   "metadata": {},
   "outputs": [],
   "source": [
    "data = [\n",
    "    'good product', \n",
    "    'loved it',\n",
    "    'highly recommended',\n",
    "    'will buy again',\n",
    "    'horrible',\n",
    "    'do not buy',\n",
    "    'poor quality'\n",
    "\n",
    "]\n",
    "\n",
    "values = np.array([1,1,1,1,0,0,0])"
   ]
  },
  {
   "cell_type": "code",
   "execution_count": 3,
   "id": "c62ff3ae-afa3-48b9-b6dd-23507422d8d5",
   "metadata": {},
   "outputs": [],
   "source": [
    "from tensorflow.keras.preprocessing.text import one_hot"
   ]
  },
  {
   "cell_type": "code",
   "execution_count": 4,
   "id": "914e57f1-a92b-4d5a-8695-ddb8ea1cc9e7",
   "metadata": {},
   "outputs": [],
   "source": [
    "ohe = one_hot(\"good product\", 50)"
   ]
  },
  {
   "cell_type": "code",
   "execution_count": 5,
   "id": "c66ce554-5ebc-4b03-9a9e-b6bd7ac93885",
   "metadata": {},
   "outputs": [
    {
     "data": {
      "text/plain": [
       "[40, 45]"
      ]
     },
     "execution_count": 5,
     "metadata": {},
     "output_type": "execute_result"
    }
   ],
   "source": [
    "ohe"
   ]
  },
  {
   "cell_type": "code",
   "execution_count": 6,
   "id": "3d6bd1ae-1d99-4eab-9ec9-17cdf0aedcdd",
   "metadata": {},
   "outputs": [
    {
     "data": {
      "text/plain": [
       "[130, 54, 144]"
      ]
     },
     "execution_count": 6,
     "metadata": {},
     "output_type": "execute_result"
    }
   ],
   "source": [
    "one_hot('do not buy', 150)"
   ]
  },
  {
   "cell_type": "code",
   "execution_count": 7,
   "id": "d0f04772-bfca-47e5-9d93-66d025837043",
   "metadata": {},
   "outputs": [
    {
     "data": {
      "text/plain": [
       "[53, 3]"
      ]
     },
     "execution_count": 7,
     "metadata": {},
     "output_type": "execute_result"
    }
   ],
   "source": [
    "one_hot('highly recommended', 150)"
   ]
  },
  {
   "cell_type": "code",
   "execution_count": 12,
   "id": "f4b2a75f-16e4-49e0-a54e-9c417c75344e",
   "metadata": {},
   "outputs": [],
   "source": [
    "vocab_size = 150"
   ]
  },
  {
   "cell_type": "code",
   "execution_count": 13,
   "id": "e6debfc8-64c7-4b65-b3dd-39144b3340f1",
   "metadata": {},
   "outputs": [
    {
     "name": "stdout",
     "output_type": "stream",
     "text": [
      "good product\n",
      "loved it\n",
      "highly recommended\n",
      "will buy again\n",
      "horrible\n",
      "do not buy\n",
      "poor quality\n"
     ]
    }
   ],
   "source": [
    "for d in data:\n",
    "    print(d)"
   ]
  },
  {
   "cell_type": "code",
   "execution_count": 14,
   "id": "121c7924-fb9f-47c1-9a4d-cd9e04bf490f",
   "metadata": {},
   "outputs": [],
   "source": [
    "enc_r = [one_hot(d, vocab_size) for d in data]"
   ]
  },
  {
   "cell_type": "code",
   "execution_count": 15,
   "id": "33ffe2c7-a777-49b4-94a5-8452a7c1a3e1",
   "metadata": {},
   "outputs": [
    {
     "data": {
      "text/plain": [
       "[[94, 144], [18, 5], [53, 3], [69, 144, 8], [41], [130, 54, 144], [4, 129]]"
      ]
     },
     "execution_count": 15,
     "metadata": {},
     "output_type": "execute_result"
    }
   ],
   "source": [
    "enc_r"
   ]
  },
  {
   "cell_type": "code",
   "execution_count": 19,
   "id": "921f0e8e-aa89-4c37-a55f-0fba18196fd6",
   "metadata": {},
   "outputs": [],
   "source": [
    "r_length = 6\n",
    "from tensorflow.keras.utils import pad_sequences\n",
    "enc_r1 = pad_sequences(enc_r, maxlen = r_length, padding = 'post')"
   ]
  },
  {
   "cell_type": "code",
   "execution_count": 20,
   "id": "577f7b71",
   "metadata": {},
   "outputs": [
    {
     "data": {
      "text/plain": [
       "array([[ 94, 144,   0,   0,   0,   0],\n",
       "       [ 18,   5,   0,   0,   0,   0],\n",
       "       [ 53,   3,   0,   0,   0,   0],\n",
       "       [ 69, 144,   8,   0,   0,   0],\n",
       "       [ 41,   0,   0,   0,   0,   0],\n",
       "       [130,  54, 144,   0,   0,   0],\n",
       "       [  4, 129,   0,   0,   0,   0]])"
      ]
     },
     "execution_count": 20,
     "metadata": {},
     "output_type": "execute_result"
    }
   ],
   "source": [
    "enc_r1"
   ]
  },
  {
   "cell_type": "code",
   "execution_count": 24,
   "id": "fb9da74b-f080-4890-adba-dd919aa20c44",
   "metadata": {},
   "outputs": [],
   "source": [
    "from tensorflow.keras.models import Sequential\n",
    "from tensorflow.keras.layers import Dense, Flatten, Embedding \n",
    "\n",
    "v_size = r_length\n",
    "model = Sequential()\n",
    "\n",
    "model.add(Embedding(vocab_size, v_size, input_length=r_length, name = 'embedding'))\n",
    "model.add(Flatten())\n",
    "model.add(Dense(1, activation = 'sigmoid'))"
   ]
  },
  {
   "cell_type": "code",
   "execution_count": 25,
   "id": "e25dffe2",
   "metadata": {},
   "outputs": [
    {
     "name": "stdout",
     "output_type": "stream",
     "text": [
      "Model: \"sequential_2\"\n",
      "_________________________________________________________________\n",
      " Layer (type)                Output Shape              Param #   \n",
      "=================================================================\n",
      " embedding (Embedding)       (None, 6, 6)              900       \n",
      "                                                                 \n",
      " flatten_1 (Flatten)         (None, 36)                0         \n",
      "                                                                 \n",
      " dense_1 (Dense)             (None, 1)                 37        \n",
      "                                                                 \n",
      "=================================================================\n",
      "Total params: 937 (3.66 KB)\n",
      "Trainable params: 937 (3.66 KB)\n",
      "Non-trainable params: 0 (0.00 Byte)\n",
      "_________________________________________________________________\n"
     ]
    }
   ],
   "source": [
    "model.summary()"
   ]
  },
  {
   "cell_type": "code",
   "execution_count": 26,
   "id": "8ddcc140-79e5-435e-a76c-aaa22f0d11d3",
   "metadata": {},
   "outputs": [],
   "source": [
    "x = enc_r1\n",
    "y = values"
   ]
  },
  {
   "cell_type": "code",
   "execution_count": 28,
   "id": "29f4a54b-2af4-4611-abf4-6d5326f9147f",
   "metadata": {},
   "outputs": [],
   "source": [
    "model.compile(optimizer = 'adam', loss = 'binary_crossentropy', metrics = ['accuracy'])"
   ]
  },
  {
   "cell_type": "code",
   "execution_count": 29,
   "id": "962ee000",
   "metadata": {},
   "outputs": [
    {
     "name": "stdout",
     "output_type": "stream",
     "text": [
      "Epoch 1/10\n",
      "1/1 [==============================] - 2s 2s/step - loss: 0.6909 - accuracy: 0.5714\n",
      "Epoch 2/10\n",
      "1/1 [==============================] - 0s 15ms/step - loss: 0.6896 - accuracy: 0.5714\n",
      "Epoch 3/10\n",
      "1/1 [==============================] - 0s 16ms/step - loss: 0.6883 - accuracy: 0.5714\n",
      "Epoch 4/10\n",
      "1/1 [==============================] - 0s 14ms/step - loss: 0.6870 - accuracy: 0.5714\n",
      "Epoch 5/10\n",
      "1/1 [==============================] - 0s 14ms/step - loss: 0.6857 - accuracy: 0.5714\n",
      "Epoch 6/10\n",
      "1/1 [==============================] - 0s 16ms/step - loss: 0.6844 - accuracy: 0.5714\n",
      "Epoch 7/10\n",
      "1/1 [==============================] - 0s 14ms/step - loss: 0.6831 - accuracy: 0.5714\n",
      "Epoch 8/10\n",
      "1/1 [==============================] - 0s 15ms/step - loss: 0.6819 - accuracy: 0.5714\n",
      "Epoch 9/10\n",
      "1/1 [==============================] - 0s 13ms/step - loss: 0.6806 - accuracy: 0.5714\n",
      "Epoch 10/10\n",
      "1/1 [==============================] - 0s 15ms/step - loss: 0.6794 - accuracy: 0.5714\n"
     ]
    },
    {
     "data": {
      "text/plain": [
       "<keras.src.callbacks.History at 0x25ecb404590>"
      ]
     },
     "execution_count": 29,
     "metadata": {},
     "output_type": "execute_result"
    }
   ],
   "source": [
    "model.fit(enc_r1, values, epochs = 10)"
   ]
  },
  {
   "cell_type": "code",
   "execution_count": 30,
   "id": "555eae11-4d4e-410c-8abb-a61846d23ad7",
   "metadata": {},
   "outputs": [
    {
     "name": "stdout",
     "output_type": "stream",
     "text": [
      "1/1 [==============================] - 0s 281ms/step - loss: 0.6781 - accuracy: 0.5714\n"
     ]
    },
    {
     "data": {
      "text/plain": [
       "[0.6780958771705627, 0.5714285969734192]"
      ]
     },
     "execution_count": 30,
     "metadata": {},
     "output_type": "execute_result"
    }
   ],
   "source": [
    "model.evaluate(x,y)"
   ]
  },
  {
   "cell_type": "code",
   "execution_count": 31,
   "id": "63e2a6e2-c2b3-4601-8e4e-929a88bf6d9c",
   "metadata": {},
   "outputs": [
    {
     "data": {
      "text/plain": [
       "array([0.01109172, 0.03430739, 0.04737295, 0.02620114, 0.00617691,\n",
       "       0.01880768], dtype=float32)"
      ]
     },
     "execution_count": 31,
     "metadata": {},
     "output_type": "execute_result"
    }
   ],
   "source": [
    "model.get_layer('embedding').get_weights()[0][2]"
   ]
  },
  {
   "cell_type": "code",
   "execution_count": 32,
   "id": "8c202e56-3dc9-4602-bfc6-b760cb0e382e",
   "metadata": {},
   "outputs": [
    {
     "ename": "NameError",
     "evalue": "name 'a' is not defined",
     "output_type": "error",
     "traceback": [
      "\u001b[1;31m---------------------------------------------------------------------------\u001b[0m",
      "\u001b[1;31mNameError\u001b[0m                                 Traceback (most recent call last)",
      "Cell \u001b[1;32mIn[32], line 1\u001b[0m\n\u001b[1;32m----> 1\u001b[0m model\u001b[38;5;241m.\u001b[39mpredict(\u001b[43ma\u001b[49m)\n",
      "\u001b[1;31mNameError\u001b[0m: name 'a' is not defined"
     ]
    }
   ],
   "source": [
    "# model.predict(a)"
   ]
  },
  {
   "cell_type": "code",
   "execution_count": null,
   "id": "3e611bf4-9806-4fb6-9a23-8a0b5e6d9608",
   "metadata": {},
   "outputs": [],
   "source": []
  }
 ],
 "metadata": {
  "kernelspec": {
   "display_name": "Python 3 (ipykernel)",
   "language": "python",
   "name": "python3"
  },
  "language_info": {
   "codemirror_mode": {
    "name": "ipython",
    "version": 3
   },
   "file_extension": ".py",
   "mimetype": "text/x-python",
   "name": "python",
   "nbconvert_exporter": "python",
   "pygments_lexer": "ipython3",
   "version": "3.11.4"
  }
 },
 "nbformat": 4,
 "nbformat_minor": 5
}
