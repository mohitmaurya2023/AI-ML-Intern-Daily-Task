{
 "cells": [
  {
   "cell_type": "markdown",
   "id": "56be9f0c",
   "metadata": {},
   "source": [
    "# cnn - use for computer vision problem\n",
    "# nlp - use cases\n",
    "-> Text classification\n",
    "\n",
    "\n",
    "\n",
    "\n",
    "ANN-> The Artificial Neural Network (ANN) is a deep learning method that arose from the concept of the human brain Biological Neural Networks. They are among the most powerful machine learning algorithms used today.\n",
    "\n",
    "CNN-> A convolutional neural network (CNN) is a type of artificial neural network used primarily for image recognition and processing, due to its ability to recognize patterns in images. A CNN is a powerful tool but requires millions of labelled data points for training.\n",
    "\n",
    "RNN->A recurrent neural network (RNN) is a deep learning model that is trained to process and convert a sequential data input into a specific sequential data output. Sequential data is data—such as words, sentences, or time-series data—where sequential components interrelate based on complex semantics and syntax rules."
   ]
  },
  {
   "cell_type": "markdown",
   "id": "5dc32981",
   "metadata": {},
   "source": [
    "# Nlp Application"
   ]
  },
  {
   "cell_type": "markdown",
   "id": "3355eec4",
   "metadata": {},
   "source": [
    "![NLP APPLICATIONS](nlp_application.png)"
   ]
  },
  {
   "cell_type": "markdown",
   "id": "1179ea6f",
   "metadata": {},
   "source": [
    "#KEYWORDS\n",
    "\n",
    "Interview\n",
    "\n",
    " Telephonic Round(applicants cut)\n",
    "    1000 - HR\n",
    "Receptionist: 500\n",
    "200\n",
    "300-100\n",
    "\n",
    "#Keywords\n",
    "\n",
    "skill -> Python, pandas, ml, seaborn, matplotlib, cnn\n",
    "academic -> bca, b.tech (cse, it)\n",
    "salary-? 7lac\n",
    "location-> delhi\n"
   ]
  },
  {
   "cell_type": "markdown",
   "id": "efbb2165",
   "metadata": {},
   "source": [
    "![LSTM MODEL](lstm.png)"
   ]
  },
  {
   "cell_type": "code",
   "execution_count": null,
   "id": "645ea3c6",
   "metadata": {},
   "outputs": [],
   "source": []
  }
 ],
 "metadata": {
  "kernelspec": {
   "display_name": "Python 3 (ipykernel)",
   "language": "python",
   "name": "python3"
  },
  "language_info": {
   "codemirror_mode": {
    "name": "ipython",
    "version": 3
   },
   "file_extension": ".py",
   "mimetype": "text/x-python",
   "name": "python",
   "nbconvert_exporter": "python",
   "pygments_lexer": "ipython3",
   "version": "3.11.4"
  }
 },
 "nbformat": 4,
 "nbformat_minor": 5
}
